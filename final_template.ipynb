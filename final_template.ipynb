{
 "cells": [
  {
   "cell_type": "markdown",
   "metadata": {},
   "source": [
    "(final_template)=\n",
    "\n",
    "# Oil and Opportunity: A Causal Analysis of Oil Production and Economic Growth"
   ]
  },
  {
   "cell_type": "markdown",
   "metadata": {},
   "source": [
    "![](oil.png)"
   ]
  },
  {
   "cell_type": "markdown",
   "metadata": {},
   "source": [
    "The overall structure of your final project should read like a technical blog post, where you motivate the importance of the topic to the readers, introduce the relevant background, give an instructional overview of your study design, and then present your analysis along with the code to generate the results.\n",
    "\n",
    "You may format your final project however you like, but be sure to address the points outlined under each section. Feel free to add or modify subsections as needed, as well as delete the points and templated admonition sections, like the ones below. You can refer to the [template on the course website](https://comsc341cd.github.io/projects/final_template.html) as you work on your final project to make sure you're addressing all the points.\n",
    "\n",
    ":::{tip}\n",
    "\n",
    "For those who are interested in structuring academic writing, I suggest reading [Mensh and Kording 2017](https://journals.plos.org/ploscompbiol/article?id=10.1371/journal.pcbi.1005619): Ten simple rules on structuring papers.\n",
    "\n",
    "Note that this is completely optional, you are **not** required to adhere to these writing rules.\n",
    "\n",
    ":::\n",
    "\n",
    ":::{tip}\n",
    "If the code to reproduce your results is long, you can use [Jupyter Book functionality for hiding/removing content](https://jupyterbook.org/en/stable/interactive/hiding.html) to toggle the visibility of the code cells.\n",
    "\n",
    ":::\n",
    "\n",
    "\n"
   ]
  },
  {
   "cell_type": "markdown",
   "metadata": {},
   "source": [
    "# Introduction"
   ]
  },
  {
   "cell_type": "markdown",
   "metadata": {},
   "source": [
    "The economic impact of natural resources,especially oil,has long been debated among economists and policymakers. Oil can be a vital driver of national wealth, yet many oil-rich countries paradoxically experience sluggish economic progress. This contradiction is at the heart of what scholars call the \"resource curse\"—the idea that an abundance of natural resources might actually hinder a nation's long-term economic growth. Our study asks a simple yet powerful causal question: Does being an oil-producing country lead to higher per-capita GDP growth?\n",
    "\n",
    "This question holds real-world significance. As the global economy continues to grapple with energy transitions, geopolitical shifts, and sustainability goals, understanding whether oil production is a blessing or a burden has never been more critical. If oil production indeed boosts economic performance, then supporting energy extraction in resource-rich nations might be justified. But if it hinders development, it may call for reforms in governance, investment strategy, and trade policy."
   ]
  },
  {
   "cell_type": "markdown",
   "metadata": {},
   "source": [
    "# Prior knowledge\n",
    "\n",
    "\n",
    "Our research builds on a rich foundation of empirical and theoretical work in growth economics and development policy. Mankiw, Romer, and Weil (1992) laid the groundwork for understanding how human capital and investment influence economic growth. Their findings suggest that once we control for investment levels and education, poorer countries tend to grow faster, a concept known as convergence. This supports the inclusion of schooling, population growth, and investment as controls in our model when examining the impact of oil production.\n",
    "\n",
    "Barro (1991) further underscores the importance of initial income levels, institutional quality, and education. These insights highlight that a country’s development trajectory depends on far more than its natural resources—institutions, policy choices, and human capital all matter. Therefore, our analysis includes these critical control variables to isolate the true causal effect of oil-producer status.\n",
    "\n",
    "Sachs and Warner (1995) introduced the influential “resource curse” hypothesis. They find that natural resource abundance,especially in oil,can have a negative effect on economic growth, particularly when institutional quality is weak. This directly informs our project’s causal question and underscores the need for careful identification strategies, such as our regression discontinuity design.\n",
    "\n",
    "Satti et al. (2020) offer a modern update by showing that oil abundance’s negative effects can be mitigated by trade openness. This implies that oil production doesn’t always doom a country’s economy. It depends on the broader policy environment. Their findings add nuance to our analysis, encouraging us to consider how other variables (like trade or governance) might interact with oil status.\n"
   ]
  },
  {
   "cell_type": "markdown",
   "metadata": {},
   "source": [
    "# Causal question [1 pt]\n",
    "\n",
    "Our study investigates the following causal question:\n",
    "##### What is the average causal effect of being an oil-producing country on a nation's per-capita GDP growth between 1960 and 1985?\n",
    "\n",
    "##### Treatment Variable:\n",
    "\n",
    "Oil producer status (oil), a binary factor where 1 indicates that a country is classified as an oil producer and 0 otherwise.\n",
    "\n",
    "##### Outcome Variable:\n",
    " \n",
    "Average annual per-capita GDP growth from 1960 to 1985 (gdpgrowth), a numeric variable indicating the growth trajectory of a country’s economy over the 25-year period.\n"
   ]
  },
  {
   "cell_type": "markdown",
   "metadata": {},
   "source": [
    "##### Causal Quantity of Interest"
   ]
  },
  {
   "cell_type": "markdown",
   "metadata": {},
   "source": [
    "We aim to estimate the Average Treatment Effect on the Treated (ATT):\n",
    "\n",
    "$$\n",
    "\\mathrm{ATT} \\;=\\; \\mathbb{E}\\bigl[Y(1) - Y(0)\\,\\bigm|\\,D = 1\\bigr].\n",
    "$$\n",
    "\n",
    "**Where:**\n",
    "\n",
    "- **\\(Y(1)\\)** is the potential GDP growth if the country is an oil producer.  \n",
    "- **\\(Y(0)\\)** is the potential GDP growth if the country is not an oil producer.  \n",
    "- **\\(D = 1\\)** indicates the country is actually an oil producer.  \n"
   ]
  },
  {
   "cell_type": "markdown",
   "metadata": {},
   "source": [
    "# Design\n",
    "\n",
    "## Study strategy [1.5 pts]\n",
    "\n",
    "Our study employs an observational design to estimate the causal effect of oil-producer status on a country's per-capita GDP growth from 1960 to 1985. Since oil status is not randomly assigned, our identification strategy relies on several critical assumptions to ensure valid causal inference.\n",
    "\n",
    "##### 1. Unconfoundedness\n",
    "This assumption states that, conditional on observed covariates, the treatment assignment (being an oil producer) is independent of the potential outcomes. In our study, we attempt to satisfy this by controlling for two key confounders:\n",
    "\n",
    "Investment rate (invest) — since capital accumulation influences growth and may correlate with a country’s ability to exploit natural resources.\n",
    "\n",
    "Schooling rate (school) — as a proxy for human capital, which directly affects economic performance and may differ systematically between oil and non-oil producers.\n",
    "\n",
    "Population growth (popgrowth) - annual population growth rate, since demographic changes can influence economic output and may differ between oil and non‑oil producers\n",
    "\n",
    "While these two variables are highly relevant and commonly used in economic growth models, they may not fully account for all sources of confounding. Other factors like institutional quality, political stability, trade policy, or geographic factors could also influence both oil status and GDP growth. Since we cannot control for unobserved variables, the unconfoundedness assumption remains strong and potentially violated, but we believe invest, popgrowth and school capture major observable economic drivers.\n",
    "\n",
    "##### 2.  Consistency\n",
    "Consistency requires that “being an oil producer” means the same thing for every country in our sample. We assume that a country has been classified as an oil producer if it reports positive oil rents (as a share of GDP) during 1960–1985. \n",
    "\n",
    "##### 3. Positivity\n",
    "This assumption requires that for every combination of covariates (invest, school, popgrowth), there is a positive probability of being both treated and untreated. \n",
    "- Our 121 countries cover a wide range of invest, school and population growth values, so this should hold\n",
    "- We’ll confirm by checking that propensity scores overlap if some invest, school and population growth values appear only in one group, our estimates there won’t be valid.\n",
    "\n",
    "##### 4. SUTVA (Stable Unit Treatment Value Assumption)\n",
    "This assumption requires that each country’s oil‑producer status is defined the same way for everyone and that one country’s treatment doesn’t influence another’s outcome.\n",
    "- Assumes no interference between countries and a single, uniform treatment definition\n",
    "- Global oil markets link producers through prices, trade, and geopolitics, creating spillovers\n",
    "- Likely violated oil production in one nation can affect others\n",
    "- We acknowledge this as a limitation of our study and recommend interpreting our estimates as local effects under the current global oil system\n",
    "\n",
    "\n",
    "![](DAG1.jpg)"
   ]
  },
  {
   "cell_type": "markdown",
   "metadata": {},
   "source": [
    "## Covariates [1 pt]\n",
    "\n",
    "We use the GrowthDJ dataset compiled by Steven Durlauf and Paul Johnson (1995) for their cross‐country growth analysis. It contains 121 country‐level observations covering the period 1960–1985, drawing on sources such as the Penn World Table (for GDP and investment data) and World Bank publications (for literacy and enrollment rates). The sample includes a mix of OECD and non-OECD nations, resource-rich and resource-poor, selected for data completeness on income, human-capital, and natural-resource indicators."
   ]
  },
  {
   "cell_type": "code",
   "execution_count": 97,
   "metadata": {},
   "outputs": [
    {
     "data": {
      "text/html": [
       "<div>\n",
       "<style scoped>\n",
       "    .dataframe tbody tr th:only-of-type {\n",
       "        vertical-align: middle;\n",
       "    }\n",
       "\n",
       "    .dataframe tbody tr th {\n",
       "        vertical-align: top;\n",
       "    }\n",
       "\n",
       "    .dataframe thead th {\n",
       "        text-align: right;\n",
       "    }\n",
       "</style>\n",
       "<table border=\"1\" class=\"dataframe\">\n",
       "  <thead>\n",
       "    <tr style=\"text-align: right;\">\n",
       "      <th></th>\n",
       "      <th>rownames</th>\n",
       "      <th>oil</th>\n",
       "      <th>inter</th>\n",
       "      <th>oecd</th>\n",
       "      <th>gdp60</th>\n",
       "      <th>gdp85</th>\n",
       "      <th>gdpgrowth</th>\n",
       "      <th>popgrowth</th>\n",
       "      <th>invest</th>\n",
       "      <th>school</th>\n",
       "      <th>literacy60</th>\n",
       "    </tr>\n",
       "  </thead>\n",
       "  <tbody>\n",
       "    <tr>\n",
       "      <th>0</th>\n",
       "      <td>1</td>\n",
       "      <td>no</td>\n",
       "      <td>yes</td>\n",
       "      <td>no</td>\n",
       "      <td>2485.0</td>\n",
       "      <td>4371.0</td>\n",
       "      <td>4.8</td>\n",
       "      <td>2.6</td>\n",
       "      <td>24.1</td>\n",
       "      <td>4.5</td>\n",
       "      <td>10.0</td>\n",
       "    </tr>\n",
       "    <tr>\n",
       "      <th>1</th>\n",
       "      <td>2</td>\n",
       "      <td>no</td>\n",
       "      <td>no</td>\n",
       "      <td>no</td>\n",
       "      <td>1588.0</td>\n",
       "      <td>1171.0</td>\n",
       "      <td>0.8</td>\n",
       "      <td>2.1</td>\n",
       "      <td>5.8</td>\n",
       "      <td>1.8</td>\n",
       "      <td>5.0</td>\n",
       "    </tr>\n",
       "    <tr>\n",
       "      <th>2</th>\n",
       "      <td>3</td>\n",
       "      <td>no</td>\n",
       "      <td>no</td>\n",
       "      <td>no</td>\n",
       "      <td>1116.0</td>\n",
       "      <td>1071.0</td>\n",
       "      <td>2.2</td>\n",
       "      <td>2.4</td>\n",
       "      <td>10.8</td>\n",
       "      <td>1.8</td>\n",
       "      <td>5.0</td>\n",
       "    </tr>\n",
       "    <tr>\n",
       "      <th>3</th>\n",
       "      <td>4</td>\n",
       "      <td>no</td>\n",
       "      <td>yes</td>\n",
       "      <td>no</td>\n",
       "      <td>959.0</td>\n",
       "      <td>3671.0</td>\n",
       "      <td>8.6</td>\n",
       "      <td>3.2</td>\n",
       "      <td>28.3</td>\n",
       "      <td>2.9</td>\n",
       "      <td>NaN</td>\n",
       "    </tr>\n",
       "    <tr>\n",
       "      <th>4</th>\n",
       "      <td>5</td>\n",
       "      <td>no</td>\n",
       "      <td>no</td>\n",
       "      <td>no</td>\n",
       "      <td>529.0</td>\n",
       "      <td>857.0</td>\n",
       "      <td>2.9</td>\n",
       "      <td>0.9</td>\n",
       "      <td>12.7</td>\n",
       "      <td>0.4</td>\n",
       "      <td>2.0</td>\n",
       "    </tr>\n",
       "  </tbody>\n",
       "</table>\n",
       "</div>"
      ],
      "text/plain": [
       "   rownames oil inter oecd   gdp60   gdp85  gdpgrowth  popgrowth  invest  \\\n",
       "0         1  no   yes   no  2485.0  4371.0        4.8        2.6    24.1   \n",
       "1         2  no    no   no  1588.0  1171.0        0.8        2.1     5.8   \n",
       "2         3  no    no   no  1116.0  1071.0        2.2        2.4    10.8   \n",
       "3         4  no   yes   no   959.0  3671.0        8.6        3.2    28.3   \n",
       "4         5  no    no   no   529.0   857.0        2.9        0.9    12.7   \n",
       "\n",
       "   school  literacy60  \n",
       "0     4.5        10.0  \n",
       "1     1.8         5.0  \n",
       "2     1.8         5.0  \n",
       "3     2.9         NaN  \n",
       "4     0.4         2.0  "
      ]
     },
     "execution_count": 97,
     "metadata": {},
     "output_type": "execute_result"
    }
   ],
   "source": [
    "raw_data = pd.read_csv(\"GrowthDJ.csv\")\n",
    "raw_data.head()"
   ]
  },
  {
   "cell_type": "markdown",
   "metadata": {},
   "source": [
    "##### 1. GDP growth (Outcome) = Average growth rate of per capita GDP from 1960 to 1985 (in percent)\n",
    "##### 2. Oil_producer (Treatment) = Is the country an oil-producing country? (Yes/No)\n",
    "\n",
    "In our observational design, we worry that oil-producer status isn’t assigned at random—countries with oil may differ systematically in ways that also drive their growth. To block those back-door paths, we include the following covariates as potential confounders based on prior literature in the field:\n",
    "\n",
    "##### 1. Physical investment rate - Average ratio of investment (including Government Investment) to GDP from 1960 to 1985 (in percent).\n",
    "Countries that allocate a high share of GDP to investment are better able to fund expensive oil‐exploration and extraction projects, so higher investment correlates with oil-producer status. Similarly, higher investment directly fuels capital accumulation, a core driver of long-run per-capita growth in Solow-type models. Without controlling for investment, our oil coefficient would pick up part of that pure capital-formation effect.\n",
    "\n",
    "##### 2. Education Level - Average fraction of working-age population enrolled in secondary school from 1960 to 1985 (in percent)\n",
    "Societies with stronger educational systems and higher literacy are more likely to develop the managerial, technical, and institutional expertise needed to regulate and operate an oil sector. Human capital is a well-established growth engine—better-educated workforces innovate more, adopt technology faster, and sustain higher productivity.\n",
    "\n",
    "##### 3. Population‐growth rate - Average growth rate of working-age population 1960 to 1985 (in percent)\n",
    "Rapid population growth can expand labor pools and domestic markets, which may both incentivize governments to exploit natural resources and provide the workforce needed for extraction. Demographic dynamics shape per-capita growth via labor-force fluctuations and dependency ratios—higher working-age growth can mechanically boost measured per-capita output.\n",
    "\n",
    "By conditioning on these covariates, each of which plausibly influences both a country’s likelihood of producing oil and its subsequent growth trajectory, we aim to satisfy the unconfoundedness assumption. That way, our estimated oil-producer coefficient more cleanly reflects the causal effect of oil status, rather than the influence of capital-formation choices, human-capital endowments or demographic trends.\n"
   ]
  },
  {
   "cell_type": "markdown",
   "metadata": {},
   "source": [
    "##### Summary Statistics"
   ]
  },
  {
   "cell_type": "code",
   "execution_count": 99,
   "metadata": {},
   "outputs": [
    {
     "data": {
      "image/png": "[encoded data removed]",
      "text/plain": [
       "<Figure size 800x600 with 1 Axes>"
      ]
     },
     "metadata": {},
     "output_type": "display_data"
    }
   ],
   "source": [
    "# Boxplots for 'invest', 'school', and 'popgrowth'\n",
    "fig, ax = plt.subplots(figsize=(8, 6))\n",
    "raw_data[['invest', 'school', 'popgrowth', 'gdpgrowth']].boxplot(ax=ax)\n",
    "ax.set_title('Boxplots of Investment, Schooling, Population Growth and GDP Growth')\n",
    "ax.set_ylabel('Value')\n",
    "plt.xticks(rotation=0)\n",
    "plt.tight_layout()\n",
    "plt.show()"
   ]
  },
  {
   "cell_type": "markdown",
   "metadata": {},
   "source": [
    "- Investment: Median around 17 %, with the middle 50 % of countries investing between roughly 12 % and 24 % of GDP and total range spans about 4 % up to 37 %.\n",
    "\n",
    "- School Enrollment: Median enrollment near 5%, IQR from about 3% to 8%, and an overall range of roughly 0.5 to 8.2%.\n",
    "\n",
    "- Population Growth: Median annual growth of the working‐age population at 2.5 %, IQR between 1.8 % and 3%, and values ranging from about 0.6 % to 4.2%.\n",
    "\n",
    "- GDP Growth: Median growth rate of per capita at 4%, IQR between 2.5% and 5.3%, and values ranging from about -0.01% to 9%. "
   ]
  },
  {
   "cell_type": "code",
   "execution_count": 100,
   "metadata": {},
   "outputs": [
    {
     "name": "stdout",
     "output_type": "stream",
     "text": [
      "oil\n",
      "no     98\n",
      "yes    23\n",
      "Name: count, dtype: int64\n"
     ]
    }
   ],
   "source": [
    "# Number of oil producers and non-producers\n",
    "print(raw_data['oil'].value_counts())"
   ]
  },
  {
   "cell_type": "markdown",
   "metadata": {},
   "source": [
    "# Estimation [2 pts]\n",
    "\n",
    "- Provide at least one (but more if you'd like!) relevant figure visualization for your chosen study design. For example:\n",
    "    - Randomized experiment: a distribution of covariates by treatment status to show balance\n",
    "    - Observational study: a Love plot before and after matching or trimming\n",
    "    - Instrumental variable: a bar plot showing the mean covariate values for compliers, never-takers, always-takers, and the overall population\n",
    "    - Regression discontinuity: a point plot showing the \"jump\" in the treatment assignment at the cutoff\n",
    "    - Difference-in-differences: a plot evaluating the parallel trends assumption pre-treatment\n",
    "- Provide at least one mathematically typset equation for the **statistical quantity** you will be estimating.\n",
    "- Describe your chosen estimator(s) for the causal quantity and how you will implement them.\n",
    "- Report the results of your estimation, including the point estimate and 95% confidence intervals. \n",
    "- Include your unique deliverable here along with a discussion if you have chosen:\n",
    "    - **Analysis extension**\n",
    "    - **Simulation study**\n",
    "    - **Additional methods exploration**\n"
   ]
  },
  {
   "cell_type": "code",
   "execution_count": null,
   "metadata": {},
   "outputs": [],
   "source": [
    "import pandas as pd\n",
    "import numpy as np\n",
    "import matplotlib.pyplot as plt\n",
    "import seaborn as sns\n",
    "import statsmodels.formula.api as smf\n",
    "import statsmodels.api as sm\n",
    "from IPython.display import display\n",
    "from sklearn.neighbors import NearestNeighbors\n",
    "from sklearn.ensemble import RandomForestRegressor"
   ]
  },
  {
   "cell_type": "code",
   "execution_count": null,
   "metadata": {},
   "outputs": [],
   "source": [
    "df = pd.read_csv(\"GrowthDJ_updated.csv\")\n",
    "df.head()"
   ]
  },
  {
   "cell_type": "code",
   "execution_count": null,
   "metadata": {},
   "outputs": [],
   "source": [
    "# Load data\n",
    "df = pd.read_csv(\"GrowthDJ_updated.csv\")\n",
    "\n",
    "# Encode categorical columns \n",
    "df = pd.get_dummies(df, columns=['oil'], drop_first=True, dtype=int)\n",
    "\n",
    "# Identify the complete case rows for training\n",
    "train_df = df.dropna()\n",
    "print(f\"Training on {len(train_df)} complete cases\")\n",
    "\n",
    "# List the target columns to impute\n",
    "targets = ['gdpgrowth', 'popgrowth', 'school']\n",
    "\n",
    "# Train a regressor and predict missing values\n",
    "for col in targets:\n",
    "    # Find indices where this column is missing\n",
    "    missing_idx = df[df[col].isnull()].index\n",
    "    if len(missing_idx) == 0:\n",
    "        continue\n",
    "\n",
    "    # Build feature list\n",
    "    features = [c for c in df.columns \n",
    "                if c != col and df[c].notnull().all()]\n",
    "\n",
    "    # Prepare training data\n",
    "    X_train = train_df[features]\n",
    "    y_train = train_df[col]\n",
    "\n",
    "    # Prepare data to predict\n",
    "    X_pred = df.loc[missing_idx, features]\n",
    "\n",
    "    # Train and predict\n",
    "    model = RandomForestRegressor(n_estimators=100, random_state=42)\n",
    "    model.fit(X_train, y_train)\n",
    "    df.loc[missing_idx, col] = model.predict(X_pred)\n",
    "\n",
    "    print(f\"Imputed {len(missing_idx)} values in column '{col}'\")\n",
    "\n",
    "# Verify no missing remain in target columns\n",
    "print(df[targets].isnull().sum())\n",
    "\n",
    "# Save the imputed dataset\n",
    "df.to_csv(\"GrowthDJ_regression_imputed.csv\", index=False)\n",
    "print(\"Saved imputed dataset as GrowthDJ_regression_imputed.csv\")"
   ]
  },
  {
   "cell_type": "code",
   "execution_count": null,
   "metadata": {},
   "outputs": [],
   "source": [
    "df_cleaned = pd.read_csv(\"GrowthDJ_regression_imputed.csv\")\n",
    "# Rename the coulmn oil_yes to oil \n",
    "df_cleaned.rename(columns={'oil_yes': 'oil'}, inplace=True)\n",
    "df_cleaned.head(20)"
   ]
  },
  {
   "cell_type": "code",
   "execution_count": 101,
   "metadata": {},
   "outputs": [
    {
     "data": {
      "text/html": [
       "<div>\n",
       "<style scoped>\n",
       "    .dataframe tbody tr th:only-of-type {\n",
       "        vertical-align: middle;\n",
       "    }\n",
       "\n",
       "    .dataframe tbody tr th {\n",
       "        vertical-align: top;\n",
       "    }\n",
       "\n",
       "    .dataframe thead th {\n",
       "        text-align: right;\n",
       "    }\n",
       "</style>\n",
       "<table border=\"1\" class=\"dataframe\">\n",
       "  <thead>\n",
       "    <tr style=\"text-align: right;\">\n",
       "      <th></th>\n",
       "      <th>oil</th>\n",
       "      <th>invest</th>\n",
       "      <th>school</th>\n",
       "      <th>popgrowth</th>\n",
       "      <th>propensity_score</th>\n",
       "    </tr>\n",
       "  </thead>\n",
       "  <tbody>\n",
       "    <tr>\n",
       "      <th>0</th>\n",
       "      <td>0</td>\n",
       "      <td>24.1</td>\n",
       "      <td>4.5</td>\n",
       "      <td>2.6</td>\n",
       "      <td>0.293643</td>\n",
       "    </tr>\n",
       "    <tr>\n",
       "      <th>1</th>\n",
       "      <td>0</td>\n",
       "      <td>5.8</td>\n",
       "      <td>1.8</td>\n",
       "      <td>2.1</td>\n",
       "      <td>0.043812</td>\n",
       "    </tr>\n",
       "    <tr>\n",
       "      <th>2</th>\n",
       "      <td>0</td>\n",
       "      <td>10.8</td>\n",
       "      <td>1.8</td>\n",
       "      <td>2.4</td>\n",
       "      <td>0.089938</td>\n",
       "    </tr>\n",
       "    <tr>\n",
       "      <th>3</th>\n",
       "      <td>0</td>\n",
       "      <td>28.3</td>\n",
       "      <td>2.9</td>\n",
       "      <td>3.2</td>\n",
       "      <td>0.530416</td>\n",
       "    </tr>\n",
       "    <tr>\n",
       "      <th>4</th>\n",
       "      <td>0</td>\n",
       "      <td>12.7</td>\n",
       "      <td>0.4</td>\n",
       "      <td>0.9</td>\n",
       "      <td>0.025929</td>\n",
       "    </tr>\n",
       "  </tbody>\n",
       "</table>\n",
       "</div>"
      ],
      "text/plain": [
       "   oil  invest  school  popgrowth  propensity_score\n",
       "0    0    24.1     4.5        2.6          0.293643\n",
       "1    0     5.8     1.8        2.1          0.043812\n",
       "2    0    10.8     1.8        2.4          0.089938\n",
       "3    0    28.3     2.9        3.2          0.530416\n",
       "4    0    12.7     0.4        0.9          0.025929"
      ]
     },
     "execution_count": 101,
     "metadata": {},
     "output_type": "execute_result"
    }
   ],
   "source": [
    "# The covariates for propensity score estimation\n",
    "covariates = ['invest', 'school', 'popgrowth']\n",
    "X = df_cleaned[covariates]\n",
    "X = sm.add_constant(X)  \n",
    "y = df_cleaned['oil']\n",
    "\n",
    "# Fit the logistic regression model\n",
    "logit_model = sm.Logit(y, X).fit(disp=False)\n",
    "\n",
    "# Predict and store the propensity scores\n",
    "df_cleaned['propensity_score'] = logit_model.predict(X)\n",
    "\n",
    "df_cleaned[['oil', 'invest', 'school','popgrowth','propensity_score']].head()"
   ]
  },
  {
   "cell_type": "code",
   "execution_count": 102,
   "metadata": {},
   "outputs": [
    {
     "data": {
      "image/png": "[encoded data removed]",
      "text/plain": [
       "<Figure size 640x480 with 1 Axes>"
      ]
     },
     "metadata": {},
     "output_type": "display_data"
    }
   ],
   "source": [
    "# Split by treatment\n",
    "ps_treated = df_cleaned.loc[df_cleaned['oil'] == 1, 'propensity_score']\n",
    "ps_control = df_cleaned.loc[df_cleaned['oil'] == 0, 'propensity_score']\n",
    "\n",
    "plt.figure()\n",
    "plt.hist(ps_treated, bins=20, density=True, alpha=0.5, label='Oil producers')\n",
    "plt.hist(ps_control, bins=20, density=True, alpha=0.5, label='Non-producers')\n",
    "plt.xlabel('Propensity Score')\n",
    "plt.ylabel('Density')\n",
    "plt.title('Propensity Score Distribution by Group')\n",
    "plt.legend()\n",
    "plt.show()"
   ]
  },
  {
   "cell_type": "code",
   "execution_count": 103,
   "metadata": {},
   "outputs": [
    {
     "data": {
      "text/html": [
       "<div>\n",
       "<style scoped>\n",
       "    .dataframe tbody tr th:only-of-type {\n",
       "        vertical-align: middle;\n",
       "    }\n",
       "\n",
       "    .dataframe tbody tr th {\n",
       "        vertical-align: top;\n",
       "    }\n",
       "\n",
       "    .dataframe thead th {\n",
       "        text-align: right;\n",
       "    }\n",
       "</style>\n",
       "<table border=\"1\" class=\"dataframe\">\n",
       "  <thead>\n",
       "    <tr style=\"text-align: right;\">\n",
       "      <th></th>\n",
       "      <th>gdpgrowth</th>\n",
       "      <th>popgrowth</th>\n",
       "      <th>invest</th>\n",
       "      <th>school</th>\n",
       "      <th>oil</th>\n",
       "      <th>propensity_score</th>\n",
       "    </tr>\n",
       "  </thead>\n",
       "  <tbody>\n",
       "    <tr>\n",
       "      <th>12</th>\n",
       "      <td>7.0</td>\n",
       "      <td>1.400</td>\n",
       "      <td>22.1</td>\n",
       "      <td>2.600</td>\n",
       "      <td>1</td>\n",
       "      <td>0.094981</td>\n",
       "    </tr>\n",
       "    <tr>\n",
       "      <th>13</th>\n",
       "      <td>3.6</td>\n",
       "      <td>3.134</td>\n",
       "      <td>18.1</td>\n",
       "      <td>1.500</td>\n",
       "      <td>1</td>\n",
       "      <td>0.289940</td>\n",
       "    </tr>\n",
       "    <tr>\n",
       "      <th>15</th>\n",
       "      <td>2.2</td>\n",
       "      <td>1.600</td>\n",
       "      <td>10.9</td>\n",
       "      <td>1.688</td>\n",
       "      <td>1</td>\n",
       "      <td>0.043007</td>\n",
       "    </tr>\n",
       "    <tr>\n",
       "      <th>18</th>\n",
       "      <td>6.8</td>\n",
       "      <td>1.900</td>\n",
       "      <td>12.6</td>\n",
       "      <td>2.000</td>\n",
       "      <td>1</td>\n",
       "      <td>0.066301</td>\n",
       "    </tr>\n",
       "    <tr>\n",
       "      <th>35</th>\n",
       "      <td>7.2</td>\n",
       "      <td>2.813</td>\n",
       "      <td>17.7</td>\n",
       "      <td>3.700</td>\n",
       "      <td>1</td>\n",
       "      <td>0.220497</td>\n",
       "    </tr>\n",
       "  </tbody>\n",
       "</table>\n",
       "</div>"
      ],
      "text/plain": [
       "    gdpgrowth  popgrowth  invest  school  oil  propensity_score\n",
       "12        7.0      1.400    22.1   2.600    1          0.094981\n",
       "13        3.6      3.134    18.1   1.500    1          0.289940\n",
       "15        2.2      1.600    10.9   1.688    1          0.043007\n",
       "18        6.8      1.900    12.6   2.000    1          0.066301\n",
       "35        7.2      2.813    17.7   3.700    1          0.220497"
      ]
     },
     "execution_count": 103,
     "metadata": {},
     "output_type": "execute_result"
    }
   ],
   "source": [
    "# Splitting treated & control\n",
    "treated = df_cleaned[df_cleaned['oil'] == 1]\n",
    "control = df_cleaned[df_cleaned['oil'] == 0]\n",
    "\n",
    "# Fitting KNN on control's propensity scores\n",
    "nn = NearestNeighbors(n_neighbors=1, algorithm='ball_tree')\n",
    "nn.fit(control[['propensity_score']])\n",
    "\n",
    "# Finding its single closest control\n",
    "distances, indices = nn.kneighbors(treated[['propensity_score']])\n",
    "\n",
    "# Extracting those matched controls\n",
    "matched_controls = control.iloc[indices.flatten()].copy()\n",
    "matched_df = pd.concat([treated, matched_controls])\n",
    "matched_df.head()"
   ]
  },
  {
   "cell_type": "code",
   "execution_count": 110,
   "metadata": {},
   "outputs": [
    {
     "data": {
      "image/png": "[encoded data removed]",
      "text/plain": [
       "<Figure size 600x400 with 1 Axes>"
      ]
     },
     "metadata": {},
     "output_type": "display_data"
    }
   ],
   "source": [
    "# Computing standardized differences before and after matching\n",
    "covariates = ['invest', 'school', 'popgrowth']\n",
    "std_before, std_after = [], []\n",
    "\n",
    "for cov in covariates:\n",
    "    # Before matching\n",
    "    t0 = df_cleaned[df_cleaned['oil'] == 1][cov]\n",
    "    c0 = df_cleaned[df_cleaned['oil'] == 0][cov]\n",
    "    sd0 = (t0.mean() - c0.mean()) / np.sqrt((t0.var() + c0.var()) / 2)\n",
    "    std_before.append(sd0)\n",
    "    # After matching\n",
    "    t1 = matched_df[matched_df['oil'] == 1][cov]\n",
    "    c1 = matched_df[matched_df['oil'] == 0][cov]\n",
    "    sd1 = (t1.mean() - c1.mean()) / np.sqrt((t1.var() + c1.var()) / 2)\n",
    "    std_after.append(sd1)\n",
    "\n",
    "# Building data for plotting\n",
    "std_df = pd.DataFrame({'covariate': covariates,'Before Matching': std_before,'After Matching': std_after})\n",
    "\n",
    "# Love Plot\n",
    "plt.figure(figsize=(6, 4))\n",
    "sns.scatterplot(data=std_melt, x='StdDiff', y='covariate', hue='Dataset', s=100)\n",
    "plt.axvline(0, color='grey', linewidth=1)\n",
    "plt.title('Love Plot: Covariate Balance Before vs. After Matching')\n",
    "plt.xlabel('Standardized Mean Difference')\n",
    "plt.ylabel('Covariate')\n",
    "plt.legend(title='')\n",
    "plt.tight_layout()\n",
    "plt.show()"
   ]
  },
  {
   "cell_type": "code",
   "execution_count": 106,
   "metadata": {},
   "outputs": [
    {
     "name": "stdout",
     "output_type": "stream",
     "text": [
      "                            OLS Regression Results                            \n",
      "==============================================================================\n",
      "Dep. Variable:              gdpgrowth   R-squared:                       0.254\n",
      "Model:                            OLS   Adj. R-squared:                  0.229\n",
      "Method:                 Least Squares   F-statistic:                     9.893\n",
      "Date:                Sat, 10 May 2025   Prob (F-statistic):           6.37e-07\n",
      "Time:                        15:17:49   Log-Likelihood:                -229.24\n",
      "No. Observations:                 121   AIC:                             468.5\n",
      "Df Residuals:                     116   BIC:                             482.5\n",
      "Df Model:                           4                                         \n",
      "Covariance Type:            nonrobust                                         \n",
      "==============================================================================\n",
      "                 coef    std err          t      P>|t|      [0.025      0.975]\n",
      "------------------------------------------------------------------------------\n",
      "Intercept      0.3563      0.640      0.557      0.579      -0.912       1.624\n",
      "oil           -0.0484      0.405     -0.120      0.905      -0.850       0.753\n",
      "invest         0.1204      0.026      4.623      0.000       0.069       0.172\n",
      "school        -0.0198      0.055     -0.361      0.719      -0.128       0.089\n",
      "popgrowth      0.7345      0.171      4.299      0.000       0.396       1.073\n",
      "==============================================================================\n",
      "Omnibus:                        1.108   Durbin-Watson:                   2.084\n",
      "Prob(Omnibus):                  0.575   Jarque-Bera (JB):                0.657\n",
      "Skew:                          -0.085   Prob(JB):                        0.720\n",
      "Kurtosis:                       3.319   Cond. No.                         92.5\n",
      "==============================================================================\n",
      "\n",
      "Notes:\n",
      "[1] Standard Errors assume that the covariance matrix of the errors is correctly specified.\n"
     ]
    }
   ],
   "source": [
    "# Fitting a linear regression on the matched dataset\n",
    "model = smf.ols(\n",
    "    formula=\"gdpgrowth ~ oil + invest + school + popgrowth\",\n",
    "    data=df_cleaned).fit()\n",
    "\n",
    "# 95% confidence intervals\n",
    "ci = model.conf_int(alpha=0.05)\n",
    "ci.columns = ['lower 95%', 'upper 95%']\n",
    "\n",
    "print(model.summary())"
   ]
  },
  {
   "cell_type": "markdown",
   "metadata": {},
   "source": [
    "# Interpretation [2 pts]\n",
    "\n",
    "Our ATT estimate for oil‐producer status is a coefficient of –0.048 ( p = 0.905). Once we hold investment share, schooling rates, and population growth constant, oil‐producing countries in our 1960–85 sample grew 0.05 percentage points per year slower than non-producers but this difference is essentially zero from a statistical standpoint(p=0.905<0.05). We are 95% confident that the true effect of being an oil producer on annual per-capita GDP growth lies somewhere between - 0.85 percentage points and 0.75 percentage points.\n",
    "\n",
    "Resource-curse theory (Sachs & Warner) predicts that oil abundance tends to harm growth, sometimes by one or two percentage points per annum in mid-20th-century cross-country panels. Our point estimate is negative—in line with the curse hypothesis—but it’s an order of magnitude smaller and far from significant, so it neither strongly confirms nor refutes the traditional finding. Instead, our result is inconclusive: there’s no detectable oil effect once we control for the key drivers Barro (1991) and MRW (1992) tell us matter. A 0.05 percentage points annual difference cumulates to only about 1.25 percentage points over 25 years which is trivial compared to typical cross-country growth variation. Our highly significant coefficients on investment (+0.12 pp per 1 % GDP invested) and population‐growth (+0.73 pp per 1 %) reinforce that physical capital accumulation and human capital are far more powerful growth engines than any residual oil effect in this sample.\n",
    "\n",
    "Because we fit a linear regression on our full 121-country sample, the coefficient on oil estimates the Average Treatment Effect (ATE) across these nations, under the usual linearity and unconfoundedness assumptions. Our dataset spans a mix of OECD and non-OECD, resource-rich and resource-poor countries but only those with reliable mid-century data on GDP, investment, schooling, and oil rents. Therefore, our conclusions apply to only that particular historical cross-section of nations so they should not be over-generalized to today’s post-2000 economies, nor to individual cases. For example, our framework can’t tell us with complete certainty how Nepal’s GDP growth would change if Nepal were an oil producer. Our analysis lacks the temporal variation needed to claim that our findings hold outside that narrow window.\n"
   ]
  },
  {
   "cell_type": "markdown",
   "metadata": {},
   "source": [
    "## Limitations of Our Study Design & Analysis\n",
    "\n",
    "##### Cross‐Sectional Data Only\n",
    "We analyze a single 25-year snapshot (1960–1985) for each country rather than year-by-year panel data. Without within‐country time variation, we cannot control for unobserved, time-invariant factors (e.g. geography, culture, long-run institutions) that might confound the oil–growth relationship. As a result, our estimates may omit important country-specific drivers of growth.\n",
    "\n",
    "##### Unobserved Confounding\n",
    "Even after adjusting for investment, schooling, and population growth, we cannot rule out bias from omitted variables such as political stability, legal institutions, trade policy, or geographic factors. If these unmeasured confounders correlate with both oil-producer status and growth, our ATT estimates will be biased.\n",
    "\n",
    "##### SUTVA Violations\n",
    "Global oil markets link countries through prices and trade. One country’s production can affect world prices and thus other countries’ growth. Our design assumes no such spillovers—an idealization that, if violated, means our estimates capture both the direct and indirect effects of oil production.\n",
    "\n",
    "##### Treatment Definition\n",
    "We use a binary oil-producer flag based on historical oil-rent shares. This classification doesn't capture the range of production scale, revenue volatility, or oil‐type differences across countries. A continuous measure (e.g. oil rents as % of GDP) might capture more nuanced effects."
   ]
  },
  {
   "cell_type": "markdown",
   "metadata": {},
   "source": [
    "## Future Deliverables\n",
    "We propose to leverage our current GrowthDJ dataset, where oil‐producer status is our treatment and 1960–85 per‐capita GDP growth our outcome by adding a running variable: each country’s geodesic distance to the nearest proven oil‐deposit boundary. Instead of relying on global regression and\n",
    "propensity‐score matching which assume no unmeasured confounders across all countries, our RDD compares countries just inside versus just outside the deposit zone, creating a local “as-if” randomization. We use the existing covariates (investment, schooling, population growth, initial GDP, literacy, OECD membership, and data-quality flags) as balance checks at the cutoff to verify that nothing else jumps at zero distance. We then fit separate local-linear regressions on each side to estimate the discontinuity in GDP growth. This yields a LATE of oil status and transforms our causal question, “What is the effect of oil-producer status on GDP growth?”, from an assumption-heavy observational estimate into a testable quasi-experiment directly grounded in our data."
   ]
  },
  {
   "cell_type": "markdown",
   "metadata": {},
   "source": [
    "# What to submit [1 pt]\n",
    "\n",
    "- A `final_project.zip` file containing your typeset Jupyter Book html article, following the same build process as described in [Project 3](https://comsc341cd.github.io/projects/proj3_analysis.html#typesetting-and-submission)\n",
    "\n",
    "- All source code `.ipynb` or `.py` files used for data cleaning/preprocessing to reproduce your results\n",
    "\n",
    ":::{tip}\n",
    "\n",
    "The published html article should still have source code cells. However, you may want to do data cleaning/preprocessing if needed in a separate file so that the focus in your rendered article is on the analysis and results.\n",
    "\n",
    ":::"
   ]
  }
 ],
 "metadata": {
  "kernelspec": {
   "display_name": "Python 3 (ipykernel)",
   "language": "python",
   "name": "python3"
  },
  "language_info": {
   "codemirror_mode": {
    "name": "ipython",
    "version": 3
   },
   "file_extension": ".py",
   "mimetype": "text/x-python",
   "name": "python",
   "nbconvert_exporter": "python",
   "pygments_lexer": "ipython3",
   "version": "3.12.6"
  }
 },
 "nbformat": 4,
 "nbformat_minor": 4
}
